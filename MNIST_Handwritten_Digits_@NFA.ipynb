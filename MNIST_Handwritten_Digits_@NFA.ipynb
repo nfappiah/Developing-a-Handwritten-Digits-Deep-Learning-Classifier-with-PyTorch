{
 "cells": [
  {
   "cell_type": "markdown",
   "metadata": {},
   "source": [
    "# Introduction\n",
    "\n",
    "In this project, you will build a neural network of your own design to evaluate the MNIST dataset.\n",
    "\n",
    "Some of the benchmark results on MNIST include can be found [on Yann LeCun's page](https://webcache.googleusercontent.com/search?q=cache:stAVPik6onEJ:yann.lecun.com/exdb/mnist) and include:\n",
    "\n",
    "88% [Lecun et al., 1998](https://hal.science/hal-03926082/document)\n",
    "\n",
    "95.3% [Lecun et al., 1998](https://hal.science/hal-03926082v1/document)\n",
    "\n",
    "99.65% [Ciresan et al., 2011](http://people.idsia.ch/~juergen/ijcai2011.pdf)\n",
    "\n",
    "\n",
    "MNIST is a great dataset for sanity checking your models, since the accuracy levels achieved by large convolutional neural networks and small linear models are both quite high. This makes it important to be familiar with the data.\n",
    "\n",
    "## Installation"
   ]
  },
  {
   "cell_type": "code",
   "execution_count": 1,
   "metadata": {},
   "outputs": [],
   "source": [
    "# Update the PATH to include the user installation directory. \n",
    "import os\n",
    "os.environ['PATH'] = f\"{os.environ['PATH']}:/root/.local/bin\"\n",
    "\n",
    "# Restart the Kernel before you move on to the next step."
   ]
  },
  {
   "cell_type": "markdown",
   "metadata": {},
   "source": [
    "#### Important: Restart the Kernel before you move on to the next step."
   ]
  },
  {
   "cell_type": "code",
   "execution_count": 2,
   "metadata": {},
   "outputs": [
    {
     "name": "stdout",
     "output_type": "stream",
     "text": [
      "Defaulting to user installation because normal site-packages is not writeable\n",
      "Requirement already satisfied: opencv-python-headless==4.5.3.56 in /root/.local/lib/python3.7/site-packages (from -r requirements.txt (line 1)) (4.5.3.56)\n",
      "Requirement already satisfied: matplotlib==3.4.3 in /opt/conda/lib/python3.7/site-packages (from -r requirements.txt (line 2)) (3.4.3)\n",
      "Requirement already satisfied: numpy==1.21.2 in /opt/conda/lib/python3.7/site-packages (from -r requirements.txt (line 3)) (1.21.2)\n",
      "Requirement already satisfied: pillow==7.0.0 in /opt/conda/lib/python3.7/site-packages (from -r requirements.txt (line 4)) (7.0.0)\n",
      "Requirement already satisfied: bokeh==2.1.1 in /root/.local/lib/python3.7/site-packages (from -r requirements.txt (line 5)) (2.1.1)\n",
      "Requirement already satisfied: torch==1.11.0 in /opt/conda/lib/python3.7/site-packages (from -r requirements.txt (line 6)) (1.11.0)\n",
      "Requirement already satisfied: torchvision==0.12.0 in /root/.local/lib/python3.7/site-packages (from -r requirements.txt (line 7)) (0.12.0)\n",
      "Requirement already satisfied: tqdm==4.63.0 in /root/.local/lib/python3.7/site-packages (from -r requirements.txt (line 8)) (4.63.0)\n",
      "Requirement already satisfied: ipywidgets==7.7.0 in /root/.local/lib/python3.7/site-packages (from -r requirements.txt (line 9)) (7.7.0)\n",
      "Requirement already satisfied: livelossplot==0.5.4 in /root/.local/lib/python3.7/site-packages (from -r requirements.txt (line 10)) (0.5.4)\n",
      "Requirement already satisfied: pytest==7.1.1 in /root/.local/lib/python3.7/site-packages (from -r requirements.txt (line 11)) (7.1.1)\n",
      "Requirement already satisfied: pandas==1.3.5 in /root/.local/lib/python3.7/site-packages (from -r requirements.txt (line 12)) (1.3.5)\n",
      "Requirement already satisfied: seaborn==0.11.2 in /root/.local/lib/python3.7/site-packages (from -r requirements.txt (line 13)) (0.11.2)\n",
      "Requirement already satisfied: jupyter==1.0.0 in /root/.local/lib/python3.7/site-packages (from -r requirements.txt (line 14)) (1.0.0)\n",
      "Requirement already satisfied: ipykernel==4.10.0 in /root/.local/lib/python3.7/site-packages (from -r requirements.txt (line 15)) (4.10.0)\n",
      "Requirement already satisfied: pyparsing>=2.2.1 in /opt/conda/lib/python3.7/site-packages (from matplotlib==3.4.3->-r requirements.txt (line 2)) (2.4.6)\n",
      "Requirement already satisfied: kiwisolver>=1.0.1 in /opt/conda/lib/python3.7/site-packages (from matplotlib==3.4.3->-r requirements.txt (line 2)) (1.1.0)\n",
      "Requirement already satisfied: cycler>=0.10 in /opt/conda/lib/python3.7/site-packages (from matplotlib==3.4.3->-r requirements.txt (line 2)) (0.10.0)\n",
      "Requirement already satisfied: python-dateutil>=2.7 in /opt/conda/lib/python3.7/site-packages (from matplotlib==3.4.3->-r requirements.txt (line 2)) (2.8.1)\n",
      "Requirement already satisfied: PyYAML>=3.10 in /opt/conda/lib/python3.7/site-packages (from bokeh==2.1.1->-r requirements.txt (line 5)) (5.3)\n",
      "Requirement already satisfied: packaging>=16.8 in /opt/conda/lib/python3.7/site-packages (from bokeh==2.1.1->-r requirements.txt (line 5)) (20.1)\n",
      "Requirement already satisfied: Jinja2>=2.7 in /opt/conda/lib/python3.7/site-packages (from bokeh==2.1.1->-r requirements.txt (line 5)) (2.11.1)\n",
      "Requirement already satisfied: typing-extensions>=3.7.4 in /opt/conda/lib/python3.7/site-packages (from bokeh==2.1.1->-r requirements.txt (line 5)) (3.7.4.1)\n",
      "Requirement already satisfied: tornado>=5.1 in /opt/conda/lib/python3.7/site-packages (from bokeh==2.1.1->-r requirements.txt (line 5)) (5.1.1)\n",
      "Requirement already satisfied: requests in /opt/conda/lib/python3.7/site-packages (from torchvision==0.12.0->-r requirements.txt (line 7)) (2.23.0)\n",
      "Requirement already satisfied: traitlets>=4.3.1 in /opt/conda/lib/python3.7/site-packages (from ipywidgets==7.7.0->-r requirements.txt (line 9)) (4.3.3)\n",
      "Requirement already satisfied: nbformat>=4.2.0 in /opt/conda/lib/python3.7/site-packages (from ipywidgets==7.7.0->-r requirements.txt (line 9)) (5.0.4)\n",
      "Requirement already satisfied: ipython-genutils~=0.2.0 in /opt/conda/lib/python3.7/site-packages (from ipywidgets==7.7.0->-r requirements.txt (line 9)) (0.2.0)\n",
      "Requirement already satisfied: ipython>=4.0.0; python_version >= \"3.3\" in /opt/conda/lib/python3.7/site-packages (from ipywidgets==7.7.0->-r requirements.txt (line 9)) (7.13.0)\n",
      "Requirement already satisfied: widgetsnbextension~=3.6.0 in /root/.local/lib/python3.7/site-packages (from ipywidgets==7.7.0->-r requirements.txt (line 9)) (3.6.8)\n",
      "Requirement already satisfied: jupyterlab-widgets>=1.0.0; python_version >= \"3.6\" in /root/.local/lib/python3.7/site-packages (from ipywidgets==7.7.0->-r requirements.txt (line 9)) (3.0.11)\n",
      "Requirement already satisfied: tomli>=1.0.0 in /root/.local/lib/python3.7/site-packages (from pytest==7.1.1->-r requirements.txt (line 11)) (2.0.1)\n",
      "Requirement already satisfied: iniconfig in /root/.local/lib/python3.7/site-packages (from pytest==7.1.1->-r requirements.txt (line 11)) (2.0.0)\n",
      "Requirement already satisfied: pluggy<2.0,>=0.12 in /root/.local/lib/python3.7/site-packages (from pytest==7.1.1->-r requirements.txt (line 11)) (1.2.0)\n",
      "Requirement already satisfied: attrs>=19.2.0 in /opt/conda/lib/python3.7/site-packages (from pytest==7.1.1->-r requirements.txt (line 11)) (19.3.0)\n",
      "Requirement already satisfied: importlib-metadata>=0.12; python_version < \"3.8\" in /opt/conda/lib/python3.7/site-packages (from pytest==7.1.1->-r requirements.txt (line 11)) (1.5.0)\n",
      "Requirement already satisfied: py>=1.8.2 in /root/.local/lib/python3.7/site-packages (from pytest==7.1.1->-r requirements.txt (line 11)) (1.11.0)\n",
      "Requirement already satisfied: pytz>=2017.3 in /opt/conda/lib/python3.7/site-packages (from pandas==1.3.5->-r requirements.txt (line 12)) (2019.3)\n",
      "Requirement already satisfied: scipy>=1.0 in /opt/conda/lib/python3.7/site-packages (from seaborn==0.11.2->-r requirements.txt (line 13)) (1.7.1)\n",
      "Requirement already satisfied: nbconvert in /opt/conda/lib/python3.7/site-packages (from jupyter==1.0.0->-r requirements.txt (line 14)) (5.6.1)\n",
      "Requirement already satisfied: qtconsole in /root/.local/lib/python3.7/site-packages (from jupyter==1.0.0->-r requirements.txt (line 14)) (5.4.4)\n",
      "Requirement already satisfied: notebook in /opt/conda/lib/python3.7/site-packages (from jupyter==1.0.0->-r requirements.txt (line 14)) (5.7.4)\n",
      "Requirement already satisfied: jupyter-console in /root/.local/lib/python3.7/site-packages (from jupyter==1.0.0->-r requirements.txt (line 14)) (6.6.3)\n",
      "Requirement already satisfied: jupyter-client in /opt/conda/lib/python3.7/site-packages (from ipykernel==4.10.0->-r requirements.txt (line 15)) (6.0.0)\n",
      "Requirement already satisfied: setuptools in /opt/conda/lib/python3.7/site-packages (from kiwisolver>=1.0.1->matplotlib==3.4.3->-r requirements.txt (line 2)) (45.2.0.post20200209)\n",
      "Requirement already satisfied: six in /opt/conda/lib/python3.7/site-packages (from cycler>=0.10->matplotlib==3.4.3->-r requirements.txt (line 2)) (1.16.0)\n",
      "Requirement already satisfied: MarkupSafe>=0.23 in /opt/conda/lib/python3.7/site-packages (from Jinja2>=2.7->bokeh==2.1.1->-r requirements.txt (line 5)) (1.1.1)\n",
      "Requirement already satisfied: urllib3!=1.25.0,!=1.25.1,<1.26,>=1.21.1 in /opt/conda/lib/python3.7/site-packages (from requests->torchvision==0.12.0->-r requirements.txt (line 7)) (1.25.7)\n",
      "Requirement already satisfied: idna<3,>=2.5 in /opt/conda/lib/python3.7/site-packages (from requests->torchvision==0.12.0->-r requirements.txt (line 7)) (2.9)\n",
      "Requirement already satisfied: certifi>=2017.4.17 in /opt/conda/lib/python3.7/site-packages (from requests->torchvision==0.12.0->-r requirements.txt (line 7)) (2019.11.28)\n",
      "Requirement already satisfied: chardet<4,>=3.0.2 in /opt/conda/lib/python3.7/site-packages (from requests->torchvision==0.12.0->-r requirements.txt (line 7)) (3.0.4)\n",
      "Requirement already satisfied: decorator in /opt/conda/lib/python3.7/site-packages (from traitlets>=4.3.1->ipywidgets==7.7.0->-r requirements.txt (line 9)) (4.4.2)\n",
      "Requirement already satisfied: jsonschema!=2.5.0,>=2.4 in /opt/conda/lib/python3.7/site-packages (from nbformat>=4.2.0->ipywidgets==7.7.0->-r requirements.txt (line 9)) (3.2.0)\n",
      "Requirement already satisfied: jupyter-core in /opt/conda/lib/python3.7/site-packages (from nbformat>=4.2.0->ipywidgets==7.7.0->-r requirements.txt (line 9)) (4.6.3)\n",
      "Requirement already satisfied: pexpect; sys_platform != \"win32\" in /opt/conda/lib/python3.7/site-packages (from ipython>=4.0.0; python_version >= \"3.3\"->ipywidgets==7.7.0->-r requirements.txt (line 9)) (4.8.0)\n",
      "Requirement already satisfied: jedi>=0.10 in /opt/conda/lib/python3.7/site-packages (from ipython>=4.0.0; python_version >= \"3.3\"->ipywidgets==7.7.0->-r requirements.txt (line 9)) (0.16.0)\n",
      "Requirement already satisfied: backcall in /opt/conda/lib/python3.7/site-packages (from ipython>=4.0.0; python_version >= \"3.3\"->ipywidgets==7.7.0->-r requirements.txt (line 9)) (0.1.0)\n",
      "Requirement already satisfied: prompt-toolkit!=3.0.0,!=3.0.1,<3.1.0,>=2.0.0 in /opt/conda/lib/python3.7/site-packages (from ipython>=4.0.0; python_version >= \"3.3\"->ipywidgets==7.7.0->-r requirements.txt (line 9)) (3.0.3)\n",
      "Requirement already satisfied: pickleshare in /opt/conda/lib/python3.7/site-packages (from ipython>=4.0.0; python_version >= \"3.3\"->ipywidgets==7.7.0->-r requirements.txt (line 9)) (0.7.5)\n",
      "Requirement already satisfied: pygments in /opt/conda/lib/python3.7/site-packages (from ipython>=4.0.0; python_version >= \"3.3\"->ipywidgets==7.7.0->-r requirements.txt (line 9)) (2.5.2)\n",
      "Requirement already satisfied: zipp>=0.5 in /opt/conda/lib/python3.7/site-packages (from importlib-metadata>=0.12; python_version < \"3.8\"->pytest==7.1.1->-r requirements.txt (line 11)) (3.0.0)\n",
      "Requirement already satisfied: bleach in /opt/conda/lib/python3.7/site-packages (from nbconvert->jupyter==1.0.0->-r requirements.txt (line 14)) (3.1.1)\n",
      "Requirement already satisfied: mistune<2,>=0.8.1 in /opt/conda/lib/python3.7/site-packages (from nbconvert->jupyter==1.0.0->-r requirements.txt (line 14)) (0.8.4)\n",
      "Requirement already satisfied: testpath in /opt/conda/lib/python3.7/site-packages (from nbconvert->jupyter==1.0.0->-r requirements.txt (line 14)) (0.4.4)\n",
      "Requirement already satisfied: entrypoints>=0.2.2 in /opt/conda/lib/python3.7/site-packages (from nbconvert->jupyter==1.0.0->-r requirements.txt (line 14)) (0.3)\n",
      "Requirement already satisfied: defusedxml in /opt/conda/lib/python3.7/site-packages (from nbconvert->jupyter==1.0.0->-r requirements.txt (line 14)) (0.6.0)\n",
      "Requirement already satisfied: pandocfilters>=1.4.1 in /opt/conda/lib/python3.7/site-packages (from nbconvert->jupyter==1.0.0->-r requirements.txt (line 14)) (1.4.2)\n",
      "Requirement already satisfied: qtpy>=2.4.0 in /root/.local/lib/python3.7/site-packages (from qtconsole->jupyter==1.0.0->-r requirements.txt (line 14)) (2.4.1)\n",
      "Requirement already satisfied: pyzmq>=17.1 in /opt/conda/lib/python3.7/site-packages (from qtconsole->jupyter==1.0.0->-r requirements.txt (line 14)) (19.0.0)\n",
      "Requirement already satisfied: prometheus-client in /opt/conda/lib/python3.7/site-packages (from notebook->jupyter==1.0.0->-r requirements.txt (line 14)) (0.7.1)\n",
      "Requirement already satisfied: terminado>=0.8.1 in /opt/conda/lib/python3.7/site-packages (from notebook->jupyter==1.0.0->-r requirements.txt (line 14)) (0.8.3)\n",
      "Requirement already satisfied: Send2Trash in /opt/conda/lib/python3.7/site-packages (from notebook->jupyter==1.0.0->-r requirements.txt (line 14)) (1.5.0)\n",
      "Requirement already satisfied: pyrsistent>=0.14.0 in /opt/conda/lib/python3.7/site-packages (from jsonschema!=2.5.0,>=2.4->nbformat>=4.2.0->ipywidgets==7.7.0->-r requirements.txt (line 9)) (0.15.7)\n",
      "Requirement already satisfied: ptyprocess>=0.5 in /opt/conda/lib/python3.7/site-packages (from pexpect; sys_platform != \"win32\"->ipython>=4.0.0; python_version >= \"3.3\"->ipywidgets==7.7.0->-r requirements.txt (line 9)) (0.6.0)\n",
      "Requirement already satisfied: parso>=0.5.2 in /opt/conda/lib/python3.7/site-packages (from jedi>=0.10->ipython>=4.0.0; python_version >= \"3.3\"->ipywidgets==7.7.0->-r requirements.txt (line 9)) (0.6.1)\n",
      "Requirement already satisfied: wcwidth in /opt/conda/lib/python3.7/site-packages (from prompt-toolkit!=3.0.0,!=3.0.1,<3.1.0,>=2.0.0->ipython>=4.0.0; python_version >= \"3.3\"->ipywidgets==7.7.0->-r requirements.txt (line 9)) (0.1.8)\n",
      "Requirement already satisfied: webencodings in /opt/conda/lib/python3.7/site-packages (from bleach->nbconvert->jupyter==1.0.0->-r requirements.txt (line 14)) (0.5.1)\n"
     ]
    }
   ],
   "source": [
    "# Install requirements\n",
    "!python -m pip install -r requirements.txt"
   ]
  },
  {
   "cell_type": "markdown",
   "metadata": {},
   "source": [
    "## Imports"
   ]
  },
  {
   "cell_type": "code",
   "execution_count": 3,
   "metadata": {},
   "outputs": [],
   "source": [
    "## This cell contains the essential imports you will need – DO NOT CHANGE THE CONTENTS! ##\n",
    "import torch\n",
    "import torch.nn as nn\n",
    "import torch.nn.functional as F\n",
    "import torch.optim as optim\n",
    "import torchvision\n",
    "import torchvision.transforms as transforms\n",
    "import torchvision.datasets as datasets\n",
    "from torch.utils.data import DataLoader, random_split\n",
    "import matplotlib.pyplot as plt\n",
    "import numpy as np"
   ]
  },
  {
   "cell_type": "code",
   "execution_count": 4,
   "metadata": {},
   "outputs": [
    {
     "data": {
      "text/plain": [
       "device(type='cpu')"
      ]
     },
     "execution_count": 4,
     "metadata": {},
     "output_type": "execute_result"
    }
   ],
   "source": [
    "device = torch.device('cuda' if torch.cuda.is_available() else 'cpu')\n",
    "device"
   ]
  },
  {
   "cell_type": "markdown",
   "metadata": {},
   "source": [
    "## Load the Dataset\n",
    "\n",
    "Specify your transforms as a list if you intend to .\n",
    "The transforms module is already loaded as `transforms`.\n",
    "\n",
    "MNIST is fortunately included in the torchvision module.\n",
    "Then, you can create your dataset using the `MNIST` object from `torchvision.datasets` ([the documentation is available here](https://pytorch.org/vision/stable/datasets.html#mnist)).\n",
    "Make sure to specify `download=True`! \n",
    "\n",
    "Once your dataset is created, you'll also need to define a `DataLoader` from the `torch.utils.data` module for both the train and the test set."
   ]
  },
  {
   "cell_type": "code",
   "execution_count": 5,
   "metadata": {},
   "outputs": [],
   "source": [
    "# Define transforms\n",
    "transform = transforms.Compose(\n",
    "                                [\n",
    "                                transforms.ToTensor(),\n",
    "                                transforms.Normalize((0.1307), (0.3081)),\n",
    "                                transforms.Lambda(lambda x: x.view(-1)) # Flatten image\n",
    "                                ]\n",
    "                               )\n",
    "\n",
    "# Create training set \n",
    "train_dataset = datasets.MNIST(root=\"data\", train=True, download=True, transform=transform)\n",
    "# Split the training data into training set and validation set\n",
    "train_size = int(0.8 * len(train_dataset))  # 80% for training\n",
    "valid_size = len(train_dataset) - train_size  # 20% for validation\n",
    "train_data, valid_data = random_split(train_dataset, [train_size, valid_size])\n",
    "# define training and validation dataloaders\n",
    "trainloader = DataLoader(train_data, batch_size=32, shuffle = True)\n",
    "validloader = DataLoader(valid_data, batch_size=32, shuffle = False)\n",
    "\n",
    "# Create test set and define test dataloader\n",
    "test_data = datasets.MNIST(root=\"data\", train=False, download=True, transform=transform)\n",
    "testloader = DataLoader(test_data, batch_size=32)"
   ]
  },
  {
   "cell_type": "code",
   "execution_count": 6,
   "metadata": {},
   "outputs": [
    {
     "name": "stdout",
     "output_type": "stream",
     "text": [
      "torch.Size([784])\n"
     ]
    }
   ],
   "source": [
    "print(train_data[0][0].shape) # check the shape of the first image to make sure the flattening is done correctly"
   ]
  },
  {
   "cell_type": "code",
   "execution_count": 7,
   "metadata": {},
   "outputs": [
    {
     "name": "stdout",
     "output_type": "stream",
     "text": [
      "375\n",
      "1500\n",
      "313\n"
     ]
    },
    {
     "data": {
      "text/plain": [
       "60000"
      ]
     },
     "execution_count": 7,
     "metadata": {},
     "output_type": "execute_result"
    }
   ],
   "source": [
    "print(len(validloader))\n",
    "print(len(trainloader))\n",
    "print(len(testloader))\n",
    "len(train_dataset)"
   ]
  },
  {
   "cell_type": "markdown",
   "metadata": {},
   "source": [
    "## Justify your preprocessing\n",
    "\n",
    "In your own words, why did you choose the transforms you chose? If you didn't use any preprocessing steps, why not?"
   ]
  },
  {
   "cell_type": "markdown",
   "metadata": {},
   "source": [
    "I normalized the images by their mean and standard deviation so the images will habe a mean of zero and a standard deviation of 1. This is standardiszes the range of pixel values, making them comparable across different images. I also flattened the images as each pixel value will be an input the feedforward neural network."
   ]
  },
  {
   "cell_type": "markdown",
   "metadata": {},
   "source": [
    "## Explore the Dataset\n",
    "Using matplotlib, numpy, and torch, explore the dimensions of your data.\n",
    "\n",
    "You can view images using the `show5` function defined below – it takes a data loader as an argument.\n",
    "Remember that normalized images will look really weird to you! You may want to try changing your transforms to view images.\n",
    "Typically using no transforms other than `toTensor()` works well for viewing – but not as well for training your network.\n",
    "If `show5` doesn't work, go back and check your code for creating your data loaders and your training/test sets."
   ]
  },
  {
   "cell_type": "code",
   "execution_count": 10,
   "metadata": {},
   "outputs": [],
   "source": [
    "## This cell contains a function for showing 5 images from a dataloader – DO NOT CHANGE THE CONTENTS! ##\n",
    "def show5(img_loader):\n",
    "    dataiter = iter(img_loader)\n",
    "    \n",
    "    batch = next(dataiter)\n",
    "    labels = batch[1][0:5]\n",
    "    images = batch[0][0:5]\n",
    "    for i in range(5):\n",
    "        print(int(labels[i].detach()))\n",
    "        \n",
    "        image = images[i].view(28,28) # reverse flattening\n",
    "        image - image * 0.3081 + 0.1307 # reverse normalization\n",
    "    \n",
    "        image = image.numpy()\n",
    "        plt.imshow(image.T.squeeze().T)\n",
    "        plt.show()"
   ]
  },
  {
   "cell_type": "code",
   "execution_count": 11,
   "metadata": {},
   "outputs": [
    {
     "name": "stdout",
     "output_type": "stream",
     "text": [
      "3\n"
     ]
    },
    {
     "data": {
      "image/png": "[encoded data removed]",
      "text/plain": [
       "<Figure size 432x288 with 1 Axes>"
      ]
     },
     "metadata": {
      "needs_background": "light"
     },
     "output_type": "display_data"
    },
    {
     "name": "stdout",
     "output_type": "stream",
     "text": [
      "9\n"
     ]
    },
    {
     "data": {
      "image/png": "[encoded data removed]",
      "text/plain": [
       "<Figure size 432x288 with 1 Axes>"
      ]
     },
     "metadata": {
      "needs_background": "light"
     },
     "output_type": "display_data"
    },
    {
     "name": "stdout",
     "output_type": "stream",
     "text": [
      "3\n"
     ]
    },
    {
     "data": {
      "image/png": "[encoded data removed]",
      "text/plain": [
       "<Figure size 432x288 with 1 Axes>"
      ]
     },
     "metadata": {
      "needs_background": "light"
     },
     "output_type": "display_data"
    },
    {
     "name": "stdout",
     "output_type": "stream",
     "text": [
      "8\n"
     ]
    },
    {
     "data": {
      "image/png": "[encoded data removed]",
      "text/plain": [
       "<Figure size 432x288 with 1 Axes>"
      ]
     },
     "metadata": {
      "needs_background": "light"
     },
     "output_type": "display_data"
    },
    {
     "name": "stdout",
     "output_type": "stream",
     "text": [
      "3\n"
     ]
    },
    {
     "data": {
      "image/png": "[encoded data removed]",
      "text/plain": [
       "<Figure size 432x288 with 1 Axes>"
      ]
     },
     "metadata": {
      "needs_background": "light"
     },
     "output_type": "display_data"
    }
   ],
   "source": [
    "# Explore data\n",
    "show5(trainloader)"
   ]
  },
  {
   "cell_type": "markdown",
   "metadata": {},
   "source": [
    "## Build your Neural Network\n",
    "Using the layers in `torch.nn` (which has been imported as `nn`) and the `torch.nn.functional` module (imported as `F`), construct a neural network based on the parameters of the dataset.\n",
    "Use any architecture you like. \n",
    "\n",
    "*Note*: If you did not flatten your tensors in your transforms or as part of your preprocessing and you are using only `Linear` layers, make sure to use the `Flatten` layer in your network!"
   ]
  },
  {
   "cell_type": "code",
   "execution_count": 12,
   "metadata": {},
   "outputs": [],
   "source": [
    "class MNIST_Mdl(nn.Module):\n",
    "    def __init__(self):\n",
    "        super().__init__()\n",
    "        self.activation = F.relu\n",
    "        self.output = F.log_softmax\n",
    "        self.fc1 = nn.Linear(784, 100)\n",
    "        self.fc2 = nn.Linear(100, 50)\n",
    "        self.fc3 = nn.Linear(50, 10)\n",
    "        self.dropout = nn.Dropout(0.2)\n",
    "\n",
    "\n",
    "    def forward(self, x):\n",
    "        #x = torch.flatten(x, 1) # flatten all dimensions except batch\n",
    "        x = self.activation(self.fc1(x))\n",
    "        x = self.dropout(x)\n",
    "        x = self.activation(self.fc2(x))\n",
    "        x = self.dropout(x)\n",
    "        x = self.activation(self.fc3(x))\n",
    "        x = self.output(x, dim=1)\n",
    "        return x\n",
    "\n"
   ]
  },
  {
   "cell_type": "markdown",
   "metadata": {},
   "source": [
    "Specify a loss function and an optimizer, and instantiate the model.\n",
    "\n",
    "If you use a less common loss function, please note why you chose that loss function in a comment."
   ]
  },
  {
   "cell_type": "code",
   "execution_count": 13,
   "metadata": {},
   "outputs": [
    {
     "data": {
      "text/plain": [
       "MNIST_Mdl(\n",
       "  (fc1): Linear(in_features=784, out_features=100, bias=True)\n",
       "  (fc2): Linear(in_features=100, out_features=50, bias=True)\n",
       "  (fc3): Linear(in_features=50, out_features=10, bias=True)\n",
       "  (dropout): Dropout(p=0.2, inplace=False)\n",
       ")"
      ]
     },
     "execution_count": 13,
     "metadata": {},
     "output_type": "execute_result"
    }
   ],
   "source": [
    "model = MNIST_Mdl()\n",
    "criterion = nn.CrossEntropyLoss()  # For classification tasks\n",
    "params = model.parameters()\n",
    "optimizer = optim.SGD(params=params, lr=0.01, momentum=0.9)\n",
    "model.to(device)"
   ]
  },
  {
   "cell_type": "markdown",
   "metadata": {},
   "source": [
    "## Running your Neural Network\n",
    "Use whatever method you like to train your neural network, and ensure you record the average loss at each epoch. \n",
    "Don't forget to use `torch.device()` and the `.to()` method for both your model and your data if you are using GPU!\n",
    "\n",
    "If you want to print your loss **during** each epoch, you can use the `enumerate` function and print the loss after a set number of batches. 250 batches works well for most people!"
   ]
  },
  {
   "cell_type": "code",
   "execution_count": 15,
   "metadata": {},
   "outputs": [
    {
     "name": "stdout",
     "output_type": "stream",
     "text": [
      "Epoch 1/5.. Batch 100.. Train Loss: 1.787.. Valid Loss: 1.044.. Valid Accuracy: 0.668\n",
      "Epoch 1/5.. Batch 200.. Train Loss: 1.025.. Valid Loss: 0.815.. Valid Accuracy: 0.718\n",
      "Epoch 1/5.. Batch 300.. Train Loss: 0.890.. Valid Loss: 0.765.. Valid Accuracy: 0.727\n",
      "Epoch 1/5.. Batch 400.. Train Loss: 0.828.. Valid Loss: 0.750.. Valid Accuracy: 0.729\n",
      "Epoch 1/5.. Batch 500.. Train Loss: 0.774.. Valid Loss: 0.575.. Valid Accuracy: 0.817\n",
      "Epoch 1/5.. Batch 600.. Train Loss: 0.628.. Valid Loss: 0.510.. Valid Accuracy: 0.823\n",
      "Epoch 1/5.. Batch 700.. Train Loss: 0.547.. Valid Loss: 0.487.. Valid Accuracy: 0.831\n",
      "Epoch 1/5.. Batch 800.. Train Loss: 0.547.. Valid Loss: 0.463.. Valid Accuracy: 0.837\n",
      "Epoch 1/5.. Batch 900.. Train Loss: 0.519.. Valid Loss: 0.437.. Valid Accuracy: 0.845\n",
      "Epoch 1/5.. Batch 1000.. Train Loss: 0.514.. Valid Loss: 0.432.. Valid Accuracy: 0.844\n",
      "Epoch 1/5.. Batch 1100.. Train Loss: 0.546.. Valid Loss: 0.427.. Valid Accuracy: 0.845\n",
      "Epoch 1/5.. Batch 1200.. Train Loss: 0.504.. Valid Loss: 0.420.. Valid Accuracy: 0.849\n",
      "Epoch 1/5.. Batch 1300.. Train Loss: 0.469.. Valid Loss: 0.414.. Valid Accuracy: 0.850\n",
      "Epoch 1/5.. Batch 1400.. Train Loss: 0.483.. Valid Loss: 0.416.. Valid Accuracy: 0.849\n",
      "Epoch 1/5.. Batch 1500.. Train Loss: 0.453.. Valid Loss: 0.400.. Valid Accuracy: 0.853\n",
      "Epoch 2/5.. Batch 100.. Train Loss: 0.452.. Valid Loss: 0.401.. Valid Accuracy: 0.853\n",
      "Epoch 2/5.. Batch 200.. Train Loss: 0.449.. Valid Loss: 0.412.. Valid Accuracy: 0.848\n",
      "Epoch 2/5.. Batch 300.. Train Loss: 0.427.. Valid Loss: 0.398.. Valid Accuracy: 0.854\n",
      "Epoch 2/5.. Batch 400.. Train Loss: 0.412.. Valid Loss: 0.402.. Valid Accuracy: 0.853\n",
      "Epoch 2/5.. Batch 500.. Train Loss: 0.421.. Valid Loss: 0.414.. Valid Accuracy: 0.849\n",
      "Epoch 2/5.. Batch 600.. Train Loss: 0.450.. Valid Loss: 0.383.. Valid Accuracy: 0.857\n",
      "Epoch 2/5.. Batch 700.. Train Loss: 0.434.. Valid Loss: 0.385.. Valid Accuracy: 0.857\n",
      "Epoch 2/5.. Batch 800.. Train Loss: 0.443.. Valid Loss: 0.389.. Valid Accuracy: 0.855\n",
      "Epoch 2/5.. Batch 900.. Train Loss: 0.389.. Valid Loss: 0.392.. Valid Accuracy: 0.855\n",
      "Epoch 2/5.. Batch 1000.. Train Loss: 0.456.. Valid Loss: 0.380.. Valid Accuracy: 0.857\n",
      "Epoch 2/5.. Batch 1100.. Train Loss: 0.431.. Valid Loss: 0.373.. Valid Accuracy: 0.858\n",
      "Epoch 2/5.. Batch 1200.. Train Loss: 0.420.. Valid Loss: 0.388.. Valid Accuracy: 0.855\n",
      "Epoch 2/5.. Batch 1300.. Train Loss: 0.432.. Valid Loss: 0.373.. Valid Accuracy: 0.859\n",
      "Epoch 2/5.. Batch 1400.. Train Loss: 0.453.. Valid Loss: 0.369.. Valid Accuracy: 0.860\n",
      "Epoch 2/5.. Batch 1500.. Train Loss: 0.425.. Valid Loss: 0.377.. Valid Accuracy: 0.860\n",
      "Epoch 3/5.. Batch 100.. Train Loss: 0.403.. Valid Loss: 0.372.. Valid Accuracy: 0.860\n",
      "Epoch 3/5.. Batch 200.. Train Loss: 0.404.. Valid Loss: 0.362.. Valid Accuracy: 0.860\n",
      "Epoch 3/5.. Batch 300.. Train Loss: 0.406.. Valid Loss: 0.374.. Valid Accuracy: 0.859\n",
      "Epoch 3/5.. Batch 400.. Train Loss: 0.416.. Valid Loss: 0.365.. Valid Accuracy: 0.860\n",
      "Epoch 3/5.. Batch 500.. Train Loss: 0.410.. Valid Loss: 0.364.. Valid Accuracy: 0.862\n",
      "Epoch 3/5.. Batch 600.. Train Loss: 0.403.. Valid Loss: 0.364.. Valid Accuracy: 0.862\n",
      "Epoch 3/5.. Batch 700.. Train Loss: 0.391.. Valid Loss: 0.367.. Valid Accuracy: 0.861\n",
      "Epoch 3/5.. Batch 800.. Train Loss: 0.399.. Valid Loss: 0.363.. Valid Accuracy: 0.861\n",
      "Epoch 3/5.. Batch 900.. Train Loss: 0.379.. Valid Loss: 0.363.. Valid Accuracy: 0.860\n",
      "Epoch 3/5.. Batch 1000.. Train Loss: 0.318.. Valid Loss: 0.134.. Valid Accuracy: 0.963\n",
      "Epoch 3/5.. Batch 1100.. Train Loss: 0.197.. Valid Loss: 0.126.. Valid Accuracy: 0.964\n",
      "Epoch 3/5.. Batch 1200.. Train Loss: 0.164.. Valid Loss: 0.124.. Valid Accuracy: 0.965\n",
      "Epoch 3/5.. Batch 1300.. Train Loss: 0.161.. Valid Loss: 0.122.. Valid Accuracy: 0.965\n",
      "Epoch 3/5.. Batch 1400.. Train Loss: 0.172.. Valid Loss: 0.131.. Valid Accuracy: 0.963\n",
      "Epoch 3/5.. Batch 1500.. Train Loss: 0.165.. Valid Loss: 0.123.. Valid Accuracy: 0.965\n",
      "Epoch 4/5.. Batch 100.. Train Loss: 0.145.. Valid Loss: 0.131.. Valid Accuracy: 0.964\n",
      "Epoch 4/5.. Batch 200.. Train Loss: 0.170.. Valid Loss: 0.127.. Valid Accuracy: 0.964\n",
      "Epoch 4/5.. Batch 300.. Train Loss: 0.115.. Valid Loss: 0.129.. Valid Accuracy: 0.967\n",
      "Epoch 4/5.. Batch 400.. Train Loss: 0.162.. Valid Loss: 0.122.. Valid Accuracy: 0.966\n",
      "Epoch 4/5.. Batch 500.. Train Loss: 0.140.. Valid Loss: 0.130.. Valid Accuracy: 0.964\n",
      "Epoch 4/5.. Batch 600.. Train Loss: 0.171.. Valid Loss: 0.123.. Valid Accuracy: 0.965\n",
      "Epoch 4/5.. Batch 700.. Train Loss: 0.151.. Valid Loss: 0.122.. Valid Accuracy: 0.965\n",
      "Epoch 4/5.. Batch 800.. Train Loss: 0.140.. Valid Loss: 0.112.. Valid Accuracy: 0.968\n",
      "Epoch 4/5.. Batch 900.. Train Loss: 0.146.. Valid Loss: 0.123.. Valid Accuracy: 0.963\n",
      "Epoch 4/5.. Batch 1000.. Train Loss: 0.156.. Valid Loss: 0.123.. Valid Accuracy: 0.965\n",
      "Epoch 4/5.. Batch 1100.. Train Loss: 0.150.. Valid Loss: 0.115.. Valid Accuracy: 0.967\n",
      "Epoch 4/5.. Batch 1200.. Train Loss: 0.159.. Valid Loss: 0.122.. Valid Accuracy: 0.965\n",
      "Epoch 4/5.. Batch 1300.. Train Loss: 0.155.. Valid Loss: 0.110.. Valid Accuracy: 0.967\n",
      "Epoch 4/5.. Batch 1400.. Train Loss: 0.130.. Valid Loss: 0.105.. Valid Accuracy: 0.970\n",
      "Epoch 4/5.. Batch 1500.. Train Loss: 0.147.. Valid Loss: 0.112.. Valid Accuracy: 0.967\n",
      "Epoch 5/5.. Batch 100.. Train Loss: 0.121.. Valid Loss: 0.109.. Valid Accuracy: 0.968\n",
      "Epoch 5/5.. Batch 200.. Train Loss: 0.141.. Valid Loss: 0.122.. Valid Accuracy: 0.966\n",
      "Epoch 5/5.. Batch 300.. Train Loss: 0.113.. Valid Loss: 0.117.. Valid Accuracy: 0.966\n",
      "Epoch 5/5.. Batch 400.. Train Loss: 0.150.. Valid Loss: 0.109.. Valid Accuracy: 0.968\n",
      "Epoch 5/5.. Batch 500.. Train Loss: 0.134.. Valid Loss: 0.115.. Valid Accuracy: 0.967\n",
      "Epoch 5/5.. Batch 600.. Train Loss: 0.112.. Valid Loss: 0.115.. Valid Accuracy: 0.967\n",
      "Epoch 5/5.. Batch 700.. Train Loss: 0.137.. Valid Loss: 0.113.. Valid Accuracy: 0.967\n",
      "Epoch 5/5.. Batch 800.. Train Loss: 0.125.. Valid Loss: 0.108.. Valid Accuracy: 0.968\n",
      "Epoch 5/5.. Batch 900.. Train Loss: 0.117.. Valid Loss: 0.113.. Valid Accuracy: 0.967\n",
      "Epoch 5/5.. Batch 1000.. Train Loss: 0.133.. Valid Loss: 0.116.. Valid Accuracy: 0.968\n",
      "Epoch 5/5.. Batch 1100.. Train Loss: 0.141.. Valid Loss: 0.108.. Valid Accuracy: 0.968\n",
      "Epoch 5/5.. Batch 1200.. Train Loss: 0.131.. Valid Loss: 0.112.. Valid Accuracy: 0.968\n",
      "Epoch 5/5.. Batch 1300.. Train Loss: 0.139.. Valid Loss: 0.114.. Valid Accuracy: 0.967\n",
      "Epoch 5/5.. Batch 1400.. Train Loss: 0.145.. Valid Loss: 0.110.. Valid Accuracy: 0.968\n",
      "Epoch 5/5.. Batch 1500.. Train Loss: 0.134.. Valid Loss: 0.104.. Valid Accuracy: 0.970\n",
      "Training complete.\n"
     ]
    }
   ],
   "source": [
    "#Training the model\n",
    "epochs = 5\n",
    "print_every = 100  # Print every 100 batches\n",
    "\n",
    "# Lists to keep track of metrics\n",
    "train_losses = []\n",
    "valid_losses = []\n",
    "valid_accuracies = []\n",
    "\n",
    "for epoch in range(epochs):\n",
    "    running_loss = 0\n",
    "    model.train()  # Set model to training mode\n",
    "\n",
    "    for batch_idx, (inputs, labels) in enumerate(trainloader):\n",
    "        # Move input and label tensors to the default device\n",
    "        inputs, labels = inputs.to(device), labels.to(device)\n",
    "        \n",
    "        # Zero the gradients\n",
    "        optimizer.zero_grad()\n",
    "        \n",
    "        # Forward pass\n",
    "        logps = model(inputs)\n",
    "        \n",
    "        \n",
    "        # Compute loss\n",
    "        loss = criterion(logps, labels)\n",
    "        \n",
    "        # Backward pass\n",
    "        loss.backward()\n",
    "        \n",
    "        # Update weights\n",
    "        optimizer.step()\n",
    "        \n",
    "        running_loss += loss.item()\n",
    "        \n",
    "        # Print training loss and validate\n",
    "        if (batch_idx + 1) % print_every == 0:\n",
    "            # Calculate average training loss\n",
    "            avg_train_loss = running_loss / print_every\n",
    "            train_losses.append(avg_train_loss)\n",
    "            running_loss = 0\n",
    "            \n",
    "            # Validation\n",
    "            model.eval()  # Set model to evaluation mode\n",
    "            valid_loss = 0\n",
    "            correct = 0\n",
    "            total = 0\n",
    "            \n",
    "            with torch.no_grad():\n",
    "                for inputs, labels in validloader:\n",
    "                    inputs, labels = inputs.to(device), labels.to(device)\n",
    "                    logps = model(inputs)\n",
    "                    batch_loss = criterion(logps, labels)\n",
    "                    valid_loss += batch_loss.item()\n",
    "                    \n",
    "                    # Calculate accuracy\n",
    "                    ps = torch.exp(logps)\n",
    "                    _, predicted = torch.max(ps, 1)\n",
    "                    total += labels.size(0)\n",
    "                    correct += (predicted == labels).sum().item()\n",
    "                    \n",
    "            avg_valid_loss = valid_loss / len(validloader)\n",
    "            avg_valid_accuracy = correct / total\n",
    "            valid_losses.append(avg_valid_loss)\n",
    "            valid_accuracies.append(avg_valid_accuracy)\n",
    "            \n",
    "            print(f\"Epoch {epoch + 1}/{epochs}.. \"\n",
    "                  f\"Batch {batch_idx + 1}.. \"\n",
    "                  f\"Train Loss: {avg_train_loss:.3f}.. \"\n",
    "                  f\"Valid Loss: {avg_valid_loss:.3f}.. \"\n",
    "                  f\"Valid Accuracy: {avg_valid_accuracy:.3f}\")\n",
    "            model.train()  # Set model back to training mode\n",
    "\n",
    "print(\"Training complete.\")"
   ]
  },
  {
   "cell_type": "markdown",
   "metadata": {},
   "source": [
    "Plot the training loss (and validation loss/accuracy, if recorded)."
   ]
  },
  {
   "cell_type": "code",
   "execution_count": 17,
   "metadata": {},
   "outputs": [
    {
     "data": {
      "image/png": "[encoded data removed]",
      "text/plain": [
       "<Figure size 864x360 with 1 Axes>"
      ]
     },
     "metadata": {
      "needs_background": "light"
     },
     "output_type": "display_data"
    }
   ],
   "source": [
    "# Plotting\n",
    "plt.figure(figsize=(12, 5))\n",
    "\n",
    "# Plot training loss\n",
    "plt.subplot(1, 2, 1)\n",
    "plt.plot(train_losses, label='Train Loss')\n",
    "plt.xlabel('Batch (print_every)')\n",
    "plt.ylabel('Loss')\n",
    "plt.title('Training Loss')\n",
    "plt.legend()\n",
    "\n",
    "# Plot validation metrics\n",
    "plt.subplot(1, 2, 1)\n",
    "plt.plot(valid_losses, label='Validation Loss', color='red')\n",
    "plt.plot(valid_accuracies, label='Validation Accuracy', color='green')\n",
    "plt.xlabel('Batch (print_every)')\n",
    "plt.ylabel('Metric')\n",
    "plt.title('Validation Metrics')\n",
    "plt.legend()\n",
    "\n",
    "plt.show()"
   ]
  },
  {
   "cell_type": "markdown",
   "metadata": {},
   "source": [
    "## Testing your model\n",
    "Using the previously created `DataLoader` for the test set, compute the percentage of correct predictions using the highest probability prediction. \n",
    "\n",
    "If your accuracy is over 90%, great work, but see if you can push a bit further! \n",
    "If your accuracy is under 90%, you'll need to make improvements.\n",
    "Go back and check your model architecture, loss function, and optimizer to make sure they're appropriate for an image classification task."
   ]
  },
  {
   "cell_type": "code",
   "execution_count": 18,
   "metadata": {},
   "outputs": [
    {
     "name": "stdout",
     "output_type": "stream",
     "text": [
      "Test loss: 0.098.. Test accuracy: 0.972\n"
     ]
    }
   ],
   "source": [
    "test_loss = 0\n",
    "accuracy = 0\n",
    "model.eval()\n",
    "with torch.no_grad():\n",
    "    for inputs, labels in testloader: # 26 batches with a batch size of 32\n",
    "        inputs, labels = inputs.to(device), labels.to(device)\n",
    "        logps = model.forward(inputs)\n",
    "        batch_loss = criterion(logps, labels)\n",
    "                    \n",
    "        test_loss += batch_loss.item()\n",
    "                    \n",
    "        # Calculate accuracy\n",
    "        ps = torch.exp(logps)\n",
    "        top_p, top_class = ps.topk(1, dim=1)\n",
    "        equals = top_class == labels.view(*top_class.shape)\n",
    "        accuracy += torch.mean(equals.type(torch.FloatTensor)).item()\n",
    "                    \n",
    "print(f\"Test loss: {test_loss/len(testloader):.3f}.. \"\n",
    "      f\"Test accuracy: {accuracy/len(testloader):.3f}\")"
   ]
  },
  {
   "cell_type": "markdown",
   "metadata": {},
   "source": [
    "## Improving your model\n",
    "\n",
    "Once your model is done training, try tweaking your hyperparameters and training again below to improve your accuracy on the test set!"
   ]
  },
  {
   "cell_type": "code",
   "execution_count": null,
   "metadata": {},
   "outputs": [],
   "source": [
    "## YOUR CODE HERE ##\n",
    "\n",
    "# Did not do this step as I am quite satisfied with my results."
   ]
  },
  {
   "cell_type": "markdown",
   "metadata": {},
   "source": [
    "## Saving your model\n",
    "Using `torch.save`, save your model for future loading."
   ]
  },
  {
   "cell_type": "code",
   "execution_count": 20,
   "metadata": {},
   "outputs": [
    {
     "name": "stdout",
     "output_type": "stream",
     "text": [
      "Model Checkpoint saved successfully.\n"
     ]
    }
   ],
   "source": [
    "checkpoint = {'model_state_dict': model.state_dict(),\n",
    "              'optimizer_state_dict': optimizer.state_dict(),\n",
    "              'epochs': epochs,\n",
    "              'learning_rate': 0.1,\n",
    "              'momentum': 0.9\n",
    "             }\n",
    "\n",
    "torch.save(checkpoint, 'model_checkpoint.pth')\n",
    "print(\"Model Checkpoint saved successfully.\")"
   ]
  }
 ],
 "metadata": {
  "kernelspec": {
   "display_name": "Python 3",
   "language": "python",
   "name": "python3"
  },
  "language_info": {
   "codemirror_mode": {
    "name": "ipython",
    "version": 3
   },
   "file_extension": ".py",
   "mimetype": "text/x-python",
   "name": "python",
   "nbconvert_exporter": "python",
   "pygments_lexer": "ipython3",
   "version": "3.7.6"
  }
 },
 "nbformat": 4,
 "nbformat_minor": 4
}
